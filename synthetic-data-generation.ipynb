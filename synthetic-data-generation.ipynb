{
 "cells": [
  {
   "cell_type": "code",
   "execution_count": null,
   "id": "49726040",
   "metadata": {},
   "outputs": [
    {
     "name": "stdout",
     "output_type": "stream",
     "text": [
      "Azure OpenAI client initialized successfully.\n"
     ]
    }
   ],
   "source": [
    "\n",
    "import os  \n",
    "import base64\n",
    "from openai import AzureOpenAI  \n",
    "from azure.ai.inference.models import SystemMessage, UserMessage\n",
    "\n",
    "#gpt-4o\n",
    "endpoint = os.getenv(\"ENDPOINT_URL\", \"https://<>.openai.azure.com/\")  \n",
    "deployment = os.getenv(\"DEPLOYMENT_NAME\", \"gpt-4o\")  \n",
    "api_key = os.getenv(\"AZURE_OPENAI_API_KEY\", \"<>\")  \n",
    "\n",
    "# #gpt-45\n",
    "# endpoint = \"https://<>.openai.azure.com/\"\n",
    "# deployment = \"gpt-4.5-preview\" \n",
    "# api_key = \"<>\"\n",
    "\n",
    "# Initialize Azure OpenAI Service client with key-based authentication    \n",
    "try:\n",
    "    client = AzureOpenAI(  \n",
    "        azure_endpoint=endpoint,  \n",
    "        api_key=api_key,  \n",
    "        api_version=\"2024-05-01-preview\",\n",
    "    )\n",
    "    print(\"Azure OpenAI client initialized successfully.\")\n",
    "except Exception as e:\n",
    "    print(f\"Failed to initialize Azure OpenAI client: {e}\")\n",
    "    "
   ]
  },
  {
   "cell_type": "code",
   "execution_count": 2,
   "id": "5d4df941",
   "metadata": {},
   "outputs": [],
   "source": [
    "messages=[\n",
    "    SystemMessage(content=\"\"\"\n",
    "        You are a highly skilled assistant specializing in generating synthetic linguistic datasets. Your task is to generate a dataset with two columns: **\"english_text\"** and **\"egyptian_arabic\"**, where the latter contains translations of the English sentences into authentic Egyptian Arabic using casual slang (Marsi/Cairene dialect).\n",
    "\n",
    "        ### **Guidelines for Data Generation:**\n",
    "\n",
    "        1. **English Sentences:**\n",
    "           - Create **10 unique English sentences**.\n",
    "           - Each sentence must contain **25 to 35 words**.\n",
    "           - Ensure the sentences have a **natural, conversational tone** that mimics everyday language.\n",
    "\n",
    "        2. **Egyptian Arabic Translations:**\n",
    "           - Translate each English sentence into **authentic Egyptian Arabic**, reflecting the **casual slang (Marsi/Cairene dialect)** used by native speakers.\n",
    "           - Use **Arabic script** with diacritics only when necessary to aid readability, ensuring the translations feel natural and fluid.\n",
    "           - Focus on capturing the **essence and tone** of the English sentence rather than providing a literal, word-for-word translation.\n",
    "\n",
    "        3. **CSV Output Format:**\n",
    "           - The final output must be a valid CSV file with exactly **2 columns**: **\"english_text\"** and **\"egyptian_arabic\"**.\n",
    "           - Ensure that all text is properly escaped (e.g., handling of commas and quotes) so that the CSV is valid.\n",
    "           - Provide exactly **10 rows of data** without any additional text, commentary, or headers outside the CSV structure.\n",
    "\n",
    "        ### **Example Output Format:**\n",
    "\n",
    "        ```\n",
    "        english_text,egyptian_arabic\n",
    "        \"I was walking down the street yesterday when I saw an old friend from school who I hadn’t spoken to in years. We talked and laughed for hours.\",\"امبارح وأنا ماشي في الشارع شفت واحد صاحبي قديم من المدرسة كنت بقالي سنين ماكلمتوش. قعدنا نتكلم ونضحك بالساعات.\"\n",
    "        \"She told me she had just started a new job and was excited about the challenges that came with it. Her enthusiasm was so contagious that it even motivated me!\",\"قالتلي إنها لسه بادئة شغل جديد ومتحمسة للتحديات اللي فيه. حماسها كان معدي لدرجة إنه حتى حمّسني أنا كمان!\"\n",
    "        ```\n",
    "\n",
    "        (This example is provided solely for format reference. The actual dataset should include 10 unique rows with naturally phrased English sentences and their authentic Egyptian Arabic translations.)\n",
    "    \"\"\"),\n",
    "    UserMessage(content=\"Generate dataset\"),\n",
    "]"
   ]
  },
  {
   "cell_type": "code",
   "execution_count": 4,
   "id": "bd88a931",
   "metadata": {},
   "outputs": [
    {
     "name": "stdout",
     "output_type": "stream",
     "text": [
      "Generated CSV content:\n",
      "```\n",
      "english_text,egyptian_arabic\n",
      "\"Last weekend, I decided to try out a new restaurant in town that everyone was talking about. The food was absolutely delicious and the atmosphere was really cozy.\",\"الويك اند اللي فات قررت أجرب مطعم جديد في البلد الكل كان بيتكلم عنه. الأكل كان لذيذ جداً والجو كان مريح بجد.\"\n",
      "\"Yesterday, I bumped into an old colleague at the mall who I hadn’t seen since we worked together years ago. We caught up over a cup of coffee and shared some laughs.\",\"امبارح قابلت واحد زميل قديم في المول ما شفتوش من وقت ما كنا بنشتغل سوا من سنين. قعدنا ندردش على فنجان قهوة وتشاركنا الضحك.\"\n",
      "\"I was surprised to hear that my cousin is moving abroad next month for a new job opportunity. It’s a big change, but I’m sure he’ll do great.\",\"اتفاجئت لما سمعت إن ابن عمي مسافر بره الشهر الجاي لشغل جديد. تغيير كبير بس متأكد إنه هيكون كويس.\"\n",
      "\"While scrolling through social media, I found an interesting article about the benefits of meditation. I think it might be helpful for reducing stress.\",\"وأنا بتصفح السوشيال ميديا لقيت مقال مثير عن فوائد التأمل. أعتقد إنه ممكن يكون مفيد لتقليل التوتر.\"\n",
      "\"On my way to work this morning, I saw a beautiful sunrise that made my day start on a positive note. Nature has a way of lifting spirits.\",\"في طريقي للشغل النهاردة الصبح شفت شروق شمس جميل خلاني أبدأ يومي بنغمة إيجابية. الطبيعة عندها طريقة إنها ترفع الروح المعنوية.\"\n",
      "\"My friend just adopted a puppy, and she’s been sharing adorable pictures of it on her social media. It's making everyone want a pet!\",\"صاحبتي لسه متبنية جرو، وبتنشر صور جميلة ليه على السوشيال ميديا. ده بيخلي الكل عاوز يجيب حيوان أليف!\"\n",
      "\"I had a long chat with my brother last night about our childhood memories, and we ended up laughing so hard we cried. It was a heartwarming moment.\",\"قعدت أدردش كتير مع أخويا امبارح بالليل عن ذكريات طفولتنا، وضحكنا جامد لدرجة إننا عيطنا. كانت لحظة دافئة.\"\n",
      "\"After finishing a thrilling book, I couldn't help but recommend it to all my friends. It's one of those stories you can't put down.\",\"بعد ما خلصت كتاب مثير، ماقدرتش أقاوم إني أرشحه لكل صحابي. من النوع اللي ماتقدرش تبطل تقراه.\"\n",
      "\"I spent the afternoon gardening and found it surprisingly therapeutic. Watching plants grow is incredibly satisfying.\",\"قضيت العصر بزرع الزرع ولقيت إنه بشكل مفاجئ علاج نفسي. متابعة نمو النباتات مُرضية جداً.\"\n",
      "\"I met a traveler at the coffee shop who shared fascinating stories about his journeys across the globe. It inspired me to plan my next adventure.\",\"قابلت مسافر في الكافيه شارك قصص مثيرة عن رحلاته حول العالم. ألهمني أخطط لمغامرتي الجاية.\"\n",
      "```\n"
     ]
    }
   ],
   "source": [
    "# Generate the completion  \n",
    "try:\n",
    "    completion = client.chat.completions.create(  \n",
    "        model=deployment,\n",
    "        messages=messages,\n",
    "        # max_tokens=5000,  \n",
    "        temperature=0.7,  \n",
    "        top_p=0.95,  \n",
    "        frequency_penalty=0,  \n",
    "        presence_penalty=0,\n",
    "        stop=None,  \n",
    "        stream=False\n",
    "    )\n",
    "\n",
    "    # Save the CSV file\n",
    "    with open(\"output-gpt4o.csv\", \"w\", encoding=\"utf-8\") as f:      \n",
    "        f.write(completion.choices[0].message.content)\n",
    "    # Print the CSV content to the console\n",
    "    print(\"Generated CSV content:\")\n",
    "    # print(completion.choices[0].message.content)  \n",
    "except Exception as e:\n",
    "    print(f\"An error occurred: {e}\")"
   ]
  }
 ],
 "metadata": {
  "kernelspec": {
   "display_name": "Python 3",
   "language": "python",
   "name": "python3"
  },
  "language_info": {
   "codemirror_mode": {
    "name": "ipython",
    "version": 3
   },
   "file_extension": ".py",
   "mimetype": "text/x-python",
   "name": "python",
   "nbconvert_exporter": "python",
   "pygments_lexer": "ipython3",
   "version": "3.13.2"
  }
 },
 "nbformat": 4,
 "nbformat_minor": 5
}
